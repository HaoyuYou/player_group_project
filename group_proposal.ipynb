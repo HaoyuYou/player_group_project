{
 "cells": [
  {
   "cell_type": "markdown",
   "id": "3909a83e-0a10-4cf9-85a6-9c7283711d4c",
   "metadata": {
    "tags": []
   },
   "source": [
    "# Predicting the Next Top Five Prize Money Owners' Name"
   ]
  },
  {
   "cell_type": "markdown",
   "id": "9650c877-9726-4c26-a19f-6f456fca76a8",
   "metadata": {
    "tags": []
   },
   "source": [
    "## Team member : \n",
    "- Haoyu You 34735811\n",
    "- Xiaomeng Zhou 67409466\n",
    "- Natalia He \n",
    "- Ruodan Deng 29414646"
   ]
  },
  {
   "cell_type": "markdown",
   "id": "d77e2880-3626-4492-8f58-a9f403b65273",
   "metadata": {
    "tags": []
   },
   "source": [
    "## Introduction:"
   ]
  },
  {
   "cell_type": "markdown",
   "id": "ec160480-f3f3-41d8-aa14-0e8e592361aa",
   "metadata": {
    "tags": []
   },
   "source": [
    "Tennis players' rankings and earnings are particularly important in determining their market worth and success in the world of professional sports. Player ranking and prize money have a largely positive link. Those with higher rankings often take home more substantial prize money than those with lower rankings. Although a high rank might enhance the probability of receiving more prize money, it is not the only factor. For example, having a nice or young body can relatively increase the victory rate and thus the ranking."
   ]
  },
  {
   "cell_type": "markdown",
   "id": "a81d5ea9-f2c2-4652-b091-9db1a0a0550f",
   "metadata": {},
   "source": [
    "- How can tennis players utilize their age and current ranks for higher prize money?\n"
   ]
  },
  {
   "cell_type": "markdown",
   "id": "a6d1f264-6a3d-459b-813a-c6f69a240da3",
   "metadata": {},
   "source": [
    "In order to predict the future top five prize money owners in the sport of tennis, we have opted to use a few players' names, ages, current ranks, and prize money. The name of the player can help us determine the identity of the player. While current rank shows a player's current performance level, age might reveal information about a player's background and probable longevity in the sport. Prize money is a measure of a player's financial success and competitiveness in tournaments.\n"
   ]
  },
  {
   "cell_type": "markdown",
   "id": "6fabb763-d6d2-4413-a124-f0700b1078ae",
   "metadata": {
    "tags": []
   },
   "source": [
    "## Preliminary exploratory data analysis:"
   ]
  },
  {
   "cell_type": "markdown",
   "id": "542cc0cd-0f8e-4f13-99b1-ccd53fa90a17",
   "metadata": {},
   "source": [
    "1. Demonstrate that the dataset can be read from the web into R "
   ]
  },
  {
   "cell_type": "markdown",
   "id": "4eef608e-99d7-4de2-ac15-ef68624d683b",
   "metadata": {},
   "source": [
    "Upload the dataset into data in R. Then use the relative path to read this dataset.\n"
   ]
  },
  {
   "cell_type": "code",
   "execution_count": 1,
   "id": "015e5365-877b-4156-ba79-dc8944cf84f3",
   "metadata": {},
   "outputs": [
    {
     "name": "stderr",
     "output_type": "stream",
     "text": [
      "── \u001b[1mAttaching packages\u001b[22m ─────────────────────────────────────── tidyverse 1.3.1 ──\n",
      "\n",
      "\u001b[32m✔\u001b[39m \u001b[34mggplot2\u001b[39m 3.3.6     \u001b[32m✔\u001b[39m \u001b[34mpurrr  \u001b[39m 0.3.4\n",
      "\u001b[32m✔\u001b[39m \u001b[34mtibble \u001b[39m 3.1.7     \u001b[32m✔\u001b[39m \u001b[34mdplyr  \u001b[39m 1.0.9\n",
      "\u001b[32m✔\u001b[39m \u001b[34mtidyr  \u001b[39m 1.2.0     \u001b[32m✔\u001b[39m \u001b[34mstringr\u001b[39m 1.4.0\n",
      "\u001b[32m✔\u001b[39m \u001b[34mreadr  \u001b[39m 2.1.2     \u001b[32m✔\u001b[39m \u001b[34mforcats\u001b[39m 0.5.1\n",
      "\n",
      "── \u001b[1mConflicts\u001b[22m ────────────────────────────────────────── tidyverse_conflicts() ──\n",
      "\u001b[31m✖\u001b[39m \u001b[34mdplyr\u001b[39m::\u001b[32mfilter()\u001b[39m masks \u001b[34mstats\u001b[39m::filter()\n",
      "\u001b[31m✖\u001b[39m \u001b[34mdplyr\u001b[39m::\u001b[32mlag()\u001b[39m    masks \u001b[34mstats\u001b[39m::lag()\n",
      "\n",
      "── \u001b[1mAttaching packages\u001b[22m ────────────────────────────────────── tidymodels 1.0.0 ──\n",
      "\n",
      "\u001b[32m✔\u001b[39m \u001b[34mbroom       \u001b[39m 1.0.0     \u001b[32m✔\u001b[39m \u001b[34mrsample     \u001b[39m 1.0.0\n",
      "\u001b[32m✔\u001b[39m \u001b[34mdials       \u001b[39m 1.0.0     \u001b[32m✔\u001b[39m \u001b[34mtune        \u001b[39m 1.0.0\n",
      "\u001b[32m✔\u001b[39m \u001b[34minfer       \u001b[39m 1.0.2     \u001b[32m✔\u001b[39m \u001b[34mworkflows   \u001b[39m 1.0.0\n",
      "\u001b[32m✔\u001b[39m \u001b[34mmodeldata   \u001b[39m 1.0.0     \u001b[32m✔\u001b[39m \u001b[34mworkflowsets\u001b[39m 1.0.0\n",
      "\u001b[32m✔\u001b[39m \u001b[34mparsnip     \u001b[39m 1.0.0     \u001b[32m✔\u001b[39m \u001b[34myardstick   \u001b[39m 1.0.0\n",
      "\u001b[32m✔\u001b[39m \u001b[34mrecipes     \u001b[39m 1.0.1     \n",
      "\n",
      "── \u001b[1mConflicts\u001b[22m ───────────────────────────────────────── tidymodels_conflicts() ──\n",
      "\u001b[31m✖\u001b[39m \u001b[34mscales\u001b[39m::\u001b[32mdiscard()\u001b[39m masks \u001b[34mpurrr\u001b[39m::discard()\n",
      "\u001b[31m✖\u001b[39m \u001b[34mdplyr\u001b[39m::\u001b[32mfilter()\u001b[39m   masks \u001b[34mstats\u001b[39m::filter()\n",
      "\u001b[31m✖\u001b[39m \u001b[34mrecipes\u001b[39m::\u001b[32mfixed()\u001b[39m  masks \u001b[34mstringr\u001b[39m::fixed()\n",
      "\u001b[31m✖\u001b[39m \u001b[34mdplyr\u001b[39m::\u001b[32mlag()\u001b[39m      masks \u001b[34mstats\u001b[39m::lag()\n",
      "\u001b[31m✖\u001b[39m \u001b[34myardstick\u001b[39m::\u001b[32mspec()\u001b[39m masks \u001b[34mreadr\u001b[39m::spec()\n",
      "\u001b[31m✖\u001b[39m \u001b[34mrecipes\u001b[39m::\u001b[32mstep()\u001b[39m   masks \u001b[34mstats\u001b[39m::step()\n",
      "\u001b[34m•\u001b[39m Learn how to get started at \u001b[32mhttps://www.tidymodels.org/start/\u001b[39m\n",
      "\n"
     ]
    }
   ],
   "source": [
    "library(tidyverse)\n",
    "library(dplyr)\n",
    "library(repr)\n",
    "library(tidymodels)\n",
    "options(repr.matrix.max.rows = 6)"
   ]
  },
  {
   "cell_type": "markdown",
   "id": "99b6bd0d-dc8f-40ff-9b58-2298e9d9f171",
   "metadata": {},
   "source": [
    "2. Clean and wrangle your data into a tidy format\n"
   ]
  },
  {
   "cell_type": "code",
   "execution_count": 2,
   "id": "eb0d0e71-629d-4b8a-86f0-5cd5f5c4d8f0",
   "metadata": {},
   "outputs": [
    {
     "name": "stderr",
     "output_type": "stream",
     "text": [
      "\u001b[1m\u001b[22mNew names:\n",
      "\u001b[36m•\u001b[39m `` -> `...1`\n",
      "\u001b[1mRows: \u001b[22m\u001b[34m500\u001b[39m \u001b[1mColumns: \u001b[22m\u001b[34m38\u001b[39m\n",
      "\u001b[36m──\u001b[39m \u001b[1mColumn specification\u001b[22m \u001b[36m────────────────────────────────────────────────────────\u001b[39m\n",
      "\u001b[1mDelimiter:\u001b[22m \",\"\n",
      "\u001b[31mchr\u001b[39m (25): Age, Country, Plays, Wikipedia, Current Rank, Best Rank, Name, Bac...\n",
      "\u001b[32mdbl\u001b[39m (13): ...1, Turned Pro, Seasons, Titles, Best Season, Retired, Masters, ...\n",
      "\n",
      "\u001b[36mℹ\u001b[39m Use `spec()` to retrieve the full column specification for this data.\n",
      "\u001b[36mℹ\u001b[39m Specify the column types or set `show_col_types = FALSE` to quiet this message.\n"
     ]
    },
    {
     "data": {
      "text/html": [
       "<table class=\"dataframe\">\n",
       "<caption>A spec_tbl_df: 500 × 38</caption>\n",
       "<thead>\n",
       "\t<tr><th scope=col>...1</th><th scope=col>Age</th><th scope=col>Country</th><th scope=col>Plays</th><th scope=col>Wikipedia</th><th scope=col>Current Rank</th><th scope=col>Best Rank</th><th scope=col>Name</th><th scope=col>Backhand</th><th scope=col>Prize Money</th><th scope=col>⋯</th><th scope=col>Facebook</th><th scope=col>Twitter</th><th scope=col>Nicknames</th><th scope=col>Grand Slams</th><th scope=col>Davis Cups</th><th scope=col>Web Site</th><th scope=col>Team Cups</th><th scope=col>Olympics</th><th scope=col>Weeks at No. 1</th><th scope=col>Tour Finals</th></tr>\n",
       "\t<tr><th scope=col>&lt;dbl&gt;</th><th scope=col>&lt;chr&gt;</th><th scope=col>&lt;chr&gt;</th><th scope=col>&lt;chr&gt;</th><th scope=col>&lt;chr&gt;</th><th scope=col>&lt;chr&gt;</th><th scope=col>&lt;chr&gt;</th><th scope=col>&lt;chr&gt;</th><th scope=col>&lt;chr&gt;</th><th scope=col>&lt;chr&gt;</th><th scope=col>⋯</th><th scope=col>&lt;chr&gt;</th><th scope=col>&lt;chr&gt;</th><th scope=col>&lt;chr&gt;</th><th scope=col>&lt;dbl&gt;</th><th scope=col>&lt;dbl&gt;</th><th scope=col>&lt;chr&gt;</th><th scope=col>&lt;dbl&gt;</th><th scope=col>&lt;dbl&gt;</th><th scope=col>&lt;dbl&gt;</th><th scope=col>&lt;dbl&gt;</th></tr>\n",
       "</thead>\n",
       "<tbody>\n",
       "\t<tr><td>0</td><td>26 (25-04-1993)</td><td>Brazil        </td><td>Right-handed</td><td>Wikipedia</td><td>378 (97) </td><td>363 (04-11-2019)</td><td>Oscar Jose Gutierrez</td><td>NA        </td><td>NA          </td><td>⋯</td><td>NA</td><td>NA</td><td>NA</td><td>NA</td><td>NA</td><td>NA</td><td>NA</td><td>NA</td><td>NA</td><td>NA</td></tr>\n",
       "\t<tr><td>1</td><td>18 (22-12-2001)</td><td>United Kingdom</td><td>Left-handed </td><td>Wikipedia</td><td>326 (119)</td><td>316 (14-10-2019)</td><td>Jack Draper         </td><td>Two-handed</td><td>$59,040     </td><td>⋯</td><td>NA</td><td>NA</td><td>NA</td><td>NA</td><td>NA</td><td>NA</td><td>NA</td><td>NA</td><td>NA</td><td>NA</td></tr>\n",
       "\t<tr><td>2</td><td>32 (03-11-1987)</td><td>Slovakia      </td><td>Right-handed</td><td>Wikipedia</td><td>178 (280)</td><td>44 (14-01-2013) </td><td>Lukas Lacko         </td><td>Two-handed</td><td>US$3,261,567</td><td>⋯</td><td>NA</td><td>NA</td><td>NA</td><td>NA</td><td>NA</td><td>NA</td><td>NA</td><td>NA</td><td>NA</td><td>NA</td></tr>\n",
       "\t<tr><td>⋮</td><td>⋮</td><td>⋮</td><td>⋮</td><td>⋮</td><td>⋮</td><td>⋮</td><td>⋮</td><td>⋮</td><td>⋮</td><td>⋱</td><td>⋮</td><td>⋮</td><td>⋮</td><td>⋮</td><td>⋮</td><td>⋮</td><td>⋮</td><td>⋮</td><td>⋮</td><td>⋮</td></tr>\n",
       "\t<tr><td>497</td><td>23 (14-03-1996)</td><td>Netherlands</td><td>Left-handed</td><td>Wikipedia</td><td>495 (60)</td><td>342 (05-08-2019)</td><td>Gijs Brouwer   </td><td>NA        </td><td>NA     </td><td>⋯</td><td>NA</td><td>NA</td><td>NA</td><td>NA</td><td>NA</td><td>NA</td><td>NA</td><td>NA</td><td>NA</td><td>NA</td></tr>\n",
       "\t<tr><td>498</td><td>24 (17-05-1995)</td><td>Ukraine    </td><td>NA         </td><td>Wikipedia</td><td>419 (81)</td><td>419 (20-01-2020)</td><td>Vladyslav Orlov</td><td>NA        </td><td>NA     </td><td>⋯</td><td>NA</td><td>NA</td><td>NA</td><td>NA</td><td>NA</td><td>NA</td><td>NA</td><td>NA</td><td>NA</td><td>NA</td></tr>\n",
       "\t<tr><td>499</td><td>22 (26-03-1997)</td><td>Tunisia    </td><td>Left-handed</td><td>Wikipedia</td><td>451 (69)</td><td>408 (24-12-2018)</td><td>Aziz Dougaz    </td><td>Two-handed</td><td>$61,984</td><td>⋯</td><td>NA</td><td>NA</td><td>NA</td><td>NA</td><td>NA</td><td>NA</td><td>NA</td><td>NA</td><td>NA</td><td>NA</td></tr>\n",
       "</tbody>\n",
       "</table>\n"
      ],
      "text/latex": [
       "A spec\\_tbl\\_df: 500 × 38\n",
       "\\begin{tabular}{lllllllllllllllllllll}\n",
       " ...1 & Age & Country & Plays & Wikipedia & Current Rank & Best Rank & Name & Backhand & Prize Money & ⋯ & Facebook & Twitter & Nicknames & Grand Slams & Davis Cups & Web Site & Team Cups & Olympics & Weeks at No. 1 & Tour Finals\\\\\n",
       " <dbl> & <chr> & <chr> & <chr> & <chr> & <chr> & <chr> & <chr> & <chr> & <chr> & ⋯ & <chr> & <chr> & <chr> & <dbl> & <dbl> & <chr> & <dbl> & <dbl> & <dbl> & <dbl>\\\\\n",
       "\\hline\n",
       "\t 0 & 26 (25-04-1993) & Brazil         & Right-handed & Wikipedia & 378 (97)  & 363 (04-11-2019) & Oscar Jose Gutierrez & NA         & NA           & ⋯ & NA & NA & NA & NA & NA & NA & NA & NA & NA & NA\\\\\n",
       "\t 1 & 18 (22-12-2001) & United Kingdom & Left-handed  & Wikipedia & 326 (119) & 316 (14-10-2019) & Jack Draper          & Two-handed & \\$59,040      & ⋯ & NA & NA & NA & NA & NA & NA & NA & NA & NA & NA\\\\\n",
       "\t 2 & 32 (03-11-1987) & Slovakia       & Right-handed & Wikipedia & 178 (280) & 44 (14-01-2013)  & Lukas Lacko          & Two-handed & US\\$3,261,567 & ⋯ & NA & NA & NA & NA & NA & NA & NA & NA & NA & NA\\\\\n",
       "\t ⋮ & ⋮ & ⋮ & ⋮ & ⋮ & ⋮ & ⋮ & ⋮ & ⋮ & ⋮ & ⋱ & ⋮ & ⋮ & ⋮ & ⋮ & ⋮ & ⋮ & ⋮ & ⋮ & ⋮ & ⋮\\\\\n",
       "\t 497 & 23 (14-03-1996) & Netherlands & Left-handed & Wikipedia & 495 (60) & 342 (05-08-2019) & Gijs Brouwer    & NA         & NA      & ⋯ & NA & NA & NA & NA & NA & NA & NA & NA & NA & NA\\\\\n",
       "\t 498 & 24 (17-05-1995) & Ukraine     & NA          & Wikipedia & 419 (81) & 419 (20-01-2020) & Vladyslav Orlov & NA         & NA      & ⋯ & NA & NA & NA & NA & NA & NA & NA & NA & NA & NA\\\\\n",
       "\t 499 & 22 (26-03-1997) & Tunisia     & Left-handed & Wikipedia & 451 (69) & 408 (24-12-2018) & Aziz Dougaz     & Two-handed & \\$61,984 & ⋯ & NA & NA & NA & NA & NA & NA & NA & NA & NA & NA\\\\\n",
       "\\end{tabular}\n"
      ],
      "text/markdown": [
       "\n",
       "A spec_tbl_df: 500 × 38\n",
       "\n",
       "| ...1 &lt;dbl&gt; | Age &lt;chr&gt; | Country &lt;chr&gt; | Plays &lt;chr&gt; | Wikipedia &lt;chr&gt; | Current Rank &lt;chr&gt; | Best Rank &lt;chr&gt; | Name &lt;chr&gt; | Backhand &lt;chr&gt; | Prize Money &lt;chr&gt; | ⋯ ⋯ | Facebook &lt;chr&gt; | Twitter &lt;chr&gt; | Nicknames &lt;chr&gt; | Grand Slams &lt;dbl&gt; | Davis Cups &lt;dbl&gt; | Web Site &lt;chr&gt; | Team Cups &lt;dbl&gt; | Olympics &lt;dbl&gt; | Weeks at No. 1 &lt;dbl&gt; | Tour Finals &lt;dbl&gt; |\n",
       "|---|---|---|---|---|---|---|---|---|---|---|---|---|---|---|---|---|---|---|---|---|\n",
       "| 0 | 26 (25-04-1993) | Brazil         | Right-handed | Wikipedia | 378 (97)  | 363 (04-11-2019) | Oscar Jose Gutierrez | NA         | NA           | ⋯ | NA | NA | NA | NA | NA | NA | NA | NA | NA | NA |\n",
       "| 1 | 18 (22-12-2001) | United Kingdom | Left-handed  | Wikipedia | 326 (119) | 316 (14-10-2019) | Jack Draper          | Two-handed | $59,040      | ⋯ | NA | NA | NA | NA | NA | NA | NA | NA | NA | NA |\n",
       "| 2 | 32 (03-11-1987) | Slovakia       | Right-handed | Wikipedia | 178 (280) | 44 (14-01-2013)  | Lukas Lacko          | Two-handed | US$3,261,567 | ⋯ | NA | NA | NA | NA | NA | NA | NA | NA | NA | NA |\n",
       "| ⋮ | ⋮ | ⋮ | ⋮ | ⋮ | ⋮ | ⋮ | ⋮ | ⋮ | ⋮ | ⋱ | ⋮ | ⋮ | ⋮ | ⋮ | ⋮ | ⋮ | ⋮ | ⋮ | ⋮ | ⋮ |\n",
       "| 497 | 23 (14-03-1996) | Netherlands | Left-handed | Wikipedia | 495 (60) | 342 (05-08-2019) | Gijs Brouwer    | NA         | NA      | ⋯ | NA | NA | NA | NA | NA | NA | NA | NA | NA | NA |\n",
       "| 498 | 24 (17-05-1995) | Ukraine     | NA          | Wikipedia | 419 (81) | 419 (20-01-2020) | Vladyslav Orlov | NA         | NA      | ⋯ | NA | NA | NA | NA | NA | NA | NA | NA | NA | NA |\n",
       "| 499 | 22 (26-03-1997) | Tunisia     | Left-handed | Wikipedia | 451 (69) | 408 (24-12-2018) | Aziz Dougaz     | Two-handed | $61,984 | ⋯ | NA | NA | NA | NA | NA | NA | NA | NA | NA | NA |\n",
       "\n"
      ],
      "text/plain": [
       "    ...1 Age             Country        Plays        Wikipedia Current Rank\n",
       "1   0    26 (25-04-1993) Brazil         Right-handed Wikipedia 378 (97)    \n",
       "2   1    18 (22-12-2001) United Kingdom Left-handed  Wikipedia 326 (119)   \n",
       "3   2    32 (03-11-1987) Slovakia       Right-handed Wikipedia 178 (280)   \n",
       "⋮   ⋮    ⋮               ⋮              ⋮            ⋮         ⋮           \n",
       "498 497  23 (14-03-1996) Netherlands    Left-handed  Wikipedia 495 (60)    \n",
       "499 498  24 (17-05-1995) Ukraine        NA           Wikipedia 419 (81)    \n",
       "500 499  22 (26-03-1997) Tunisia        Left-handed  Wikipedia 451 (69)    \n",
       "    Best Rank        Name                 Backhand   Prize Money  ⋯ Facebook\n",
       "1   363 (04-11-2019) Oscar Jose Gutierrez NA         NA           ⋯ NA      \n",
       "2   316 (14-10-2019) Jack Draper          Two-handed $59,040      ⋯ NA      \n",
       "3   44 (14-01-2013)  Lukas Lacko          Two-handed US$3,261,567 ⋯ NA      \n",
       "⋮   ⋮                ⋮                    ⋮          ⋮            ⋱ ⋮       \n",
       "498 342 (05-08-2019) Gijs Brouwer         NA         NA           ⋯ NA      \n",
       "499 419 (20-01-2020) Vladyslav Orlov      NA         NA           ⋯ NA      \n",
       "500 408 (24-12-2018) Aziz Dougaz          Two-handed $61,984      ⋯ NA      \n",
       "    Twitter Nicknames Grand Slams Davis Cups Web Site Team Cups Olympics\n",
       "1   NA      NA        NA          NA         NA       NA        NA      \n",
       "2   NA      NA        NA          NA         NA       NA        NA      \n",
       "3   NA      NA        NA          NA         NA       NA        NA      \n",
       "⋮   ⋮       ⋮         ⋮           ⋮          ⋮        ⋮         ⋮       \n",
       "498 NA      NA        NA          NA         NA       NA        NA      \n",
       "499 NA      NA        NA          NA         NA       NA        NA      \n",
       "500 NA      NA        NA          NA         NA       NA        NA      \n",
       "    Weeks at No. 1 Tour Finals\n",
       "1   NA             NA         \n",
       "2   NA             NA         \n",
       "3   NA             NA         \n",
       "⋮   ⋮              ⋮          \n",
       "498 NA             NA         \n",
       "499 NA             NA         \n",
       "500 NA             NA         "
      ]
     },
     "metadata": {},
     "output_type": "display_data"
    }
   ],
   "source": [
    "player <- read_csv(\"player_stats.csv\")\n",
    "player"
   ]
  },
  {
   "cell_type": "code",
   "execution_count": 3,
   "id": "f902abc4-b352-4ef0-9c95-849670f0fd45",
   "metadata": {},
   "outputs": [
    {
     "name": "stderr",
     "output_type": "stream",
     "text": [
      "Warning message in mask$eval_all_mutate(quo):\n",
      "“NAs introduced by coercion”\n"
     ]
    },
    {
     "data": {
      "text/html": [
       "<table class=\"dataframe\">\n",
       "<caption>A tibble: 500 × 41</caption>\n",
       "<thead>\n",
       "\t<tr><th scope=col>...1</th><th scope=col>age</th><th scope=col>birth_date</th><th scope=col>Country</th><th scope=col>Plays</th><th scope=col>Wikipedia</th><th scope=col>current_rank</th><th scope=col>current_score</th><th scope=col>Best Rank</th><th scope=col>Name</th><th scope=col>⋯</th><th scope=col>Twitter</th><th scope=col>Nicknames</th><th scope=col>Grand Slams</th><th scope=col>Davis Cups</th><th scope=col>Web Site</th><th scope=col>Team Cups</th><th scope=col>Olympics</th><th scope=col>Weeks at No. 1</th><th scope=col>Tour Finals</th><th scope=col>prize_money</th></tr>\n",
       "\t<tr><th scope=col>&lt;dbl&gt;</th><th scope=col>&lt;int&gt;</th><th scope=col>&lt;chr&gt;</th><th scope=col>&lt;chr&gt;</th><th scope=col>&lt;chr&gt;</th><th scope=col>&lt;chr&gt;</th><th scope=col>&lt;int&gt;</th><th scope=col>&lt;int&gt;</th><th scope=col>&lt;chr&gt;</th><th scope=col>&lt;chr&gt;</th><th scope=col>⋯</th><th scope=col>&lt;chr&gt;</th><th scope=col>&lt;chr&gt;</th><th scope=col>&lt;dbl&gt;</th><th scope=col>&lt;dbl&gt;</th><th scope=col>&lt;chr&gt;</th><th scope=col>&lt;dbl&gt;</th><th scope=col>&lt;dbl&gt;</th><th scope=col>&lt;dbl&gt;</th><th scope=col>&lt;dbl&gt;</th><th scope=col>&lt;int&gt;</th></tr>\n",
       "</thead>\n",
       "<tbody>\n",
       "\t<tr><td>0</td><td>26</td><td>25-04-1993</td><td>Brazil        </td><td>Right-handed</td><td>Wikipedia</td><td>378</td><td> 97</td><td>363 (04-11-2019)</td><td>Oscar Jose Gutierrez</td><td>⋯</td><td>NA</td><td>NA</td><td>NA</td><td>NA</td><td>NA</td><td>NA</td><td>NA</td><td>NA</td><td>NA</td><td>     NA</td></tr>\n",
       "\t<tr><td>1</td><td>18</td><td>22-12-2001</td><td>United Kingdom</td><td>Left-handed </td><td>Wikipedia</td><td>326</td><td>119</td><td>316 (14-10-2019)</td><td>Jack Draper         </td><td>⋯</td><td>NA</td><td>NA</td><td>NA</td><td>NA</td><td>NA</td><td>NA</td><td>NA</td><td>NA</td><td>NA</td><td>  59040</td></tr>\n",
       "\t<tr><td>2</td><td>32</td><td>03-11-1987</td><td>Slovakia      </td><td>Right-handed</td><td>Wikipedia</td><td>178</td><td>280</td><td>44 (14-01-2013) </td><td>Lukas Lacko         </td><td>⋯</td><td>NA</td><td>NA</td><td>NA</td><td>NA</td><td>NA</td><td>NA</td><td>NA</td><td>NA</td><td>NA</td><td>3261567</td></tr>\n",
       "\t<tr><td>⋮</td><td>⋮</td><td>⋮</td><td>⋮</td><td>⋮</td><td>⋮</td><td>⋮</td><td>⋮</td><td>⋮</td><td>⋮</td><td>⋱</td><td>⋮</td><td>⋮</td><td>⋮</td><td>⋮</td><td>⋮</td><td>⋮</td><td>⋮</td><td>⋮</td><td>⋮</td><td>⋮</td></tr>\n",
       "\t<tr><td>497</td><td>23</td><td>14-03-1996</td><td>Netherlands</td><td>Left-handed</td><td>Wikipedia</td><td>495</td><td>60</td><td>342 (05-08-2019)</td><td>Gijs Brouwer   </td><td>⋯</td><td>NA</td><td>NA</td><td>NA</td><td>NA</td><td>NA</td><td>NA</td><td>NA</td><td>NA</td><td>NA</td><td>   NA</td></tr>\n",
       "\t<tr><td>498</td><td>24</td><td>17-05-1995</td><td>Ukraine    </td><td>NA         </td><td>Wikipedia</td><td>419</td><td>81</td><td>419 (20-01-2020)</td><td>Vladyslav Orlov</td><td>⋯</td><td>NA</td><td>NA</td><td>NA</td><td>NA</td><td>NA</td><td>NA</td><td>NA</td><td>NA</td><td>NA</td><td>   NA</td></tr>\n",
       "\t<tr><td>499</td><td>22</td><td>26-03-1997</td><td>Tunisia    </td><td>Left-handed</td><td>Wikipedia</td><td>451</td><td>69</td><td>408 (24-12-2018)</td><td>Aziz Dougaz    </td><td>⋯</td><td>NA</td><td>NA</td><td>NA</td><td>NA</td><td>NA</td><td>NA</td><td>NA</td><td>NA</td><td>NA</td><td>61984</td></tr>\n",
       "</tbody>\n",
       "</table>\n"
      ],
      "text/latex": [
       "A tibble: 500 × 41\n",
       "\\begin{tabular}{lllllllllllllllllllll}\n",
       " ...1 & age & birth\\_date & Country & Plays & Wikipedia & current\\_rank & current\\_score & Best Rank & Name & ⋯ & Twitter & Nicknames & Grand Slams & Davis Cups & Web Site & Team Cups & Olympics & Weeks at No. 1 & Tour Finals & prize\\_money\\\\\n",
       " <dbl> & <int> & <chr> & <chr> & <chr> & <chr> & <int> & <int> & <chr> & <chr> & ⋯ & <chr> & <chr> & <dbl> & <dbl> & <chr> & <dbl> & <dbl> & <dbl> & <dbl> & <int>\\\\\n",
       "\\hline\n",
       "\t 0 & 26 & 25-04-1993 & Brazil         & Right-handed & Wikipedia & 378 &  97 & 363 (04-11-2019) & Oscar Jose Gutierrez & ⋯ & NA & NA & NA & NA & NA & NA & NA & NA & NA &      NA\\\\\n",
       "\t 1 & 18 & 22-12-2001 & United Kingdom & Left-handed  & Wikipedia & 326 & 119 & 316 (14-10-2019) & Jack Draper          & ⋯ & NA & NA & NA & NA & NA & NA & NA & NA & NA &   59040\\\\\n",
       "\t 2 & 32 & 03-11-1987 & Slovakia       & Right-handed & Wikipedia & 178 & 280 & 44 (14-01-2013)  & Lukas Lacko          & ⋯ & NA & NA & NA & NA & NA & NA & NA & NA & NA & 3261567\\\\\n",
       "\t ⋮ & ⋮ & ⋮ & ⋮ & ⋮ & ⋮ & ⋮ & ⋮ & ⋮ & ⋮ & ⋱ & ⋮ & ⋮ & ⋮ & ⋮ & ⋮ & ⋮ & ⋮ & ⋮ & ⋮ & ⋮\\\\\n",
       "\t 497 & 23 & 14-03-1996 & Netherlands & Left-handed & Wikipedia & 495 & 60 & 342 (05-08-2019) & Gijs Brouwer    & ⋯ & NA & NA & NA & NA & NA & NA & NA & NA & NA &    NA\\\\\n",
       "\t 498 & 24 & 17-05-1995 & Ukraine     & NA          & Wikipedia & 419 & 81 & 419 (20-01-2020) & Vladyslav Orlov & ⋯ & NA & NA & NA & NA & NA & NA & NA & NA & NA &    NA\\\\\n",
       "\t 499 & 22 & 26-03-1997 & Tunisia     & Left-handed & Wikipedia & 451 & 69 & 408 (24-12-2018) & Aziz Dougaz     & ⋯ & NA & NA & NA & NA & NA & NA & NA & NA & NA & 61984\\\\\n",
       "\\end{tabular}\n"
      ],
      "text/markdown": [
       "\n",
       "A tibble: 500 × 41\n",
       "\n",
       "| ...1 &lt;dbl&gt; | age &lt;int&gt; | birth_date &lt;chr&gt; | Country &lt;chr&gt; | Plays &lt;chr&gt; | Wikipedia &lt;chr&gt; | current_rank &lt;int&gt; | current_score &lt;int&gt; | Best Rank &lt;chr&gt; | Name &lt;chr&gt; | ⋯ ⋯ | Twitter &lt;chr&gt; | Nicknames &lt;chr&gt; | Grand Slams &lt;dbl&gt; | Davis Cups &lt;dbl&gt; | Web Site &lt;chr&gt; | Team Cups &lt;dbl&gt; | Olympics &lt;dbl&gt; | Weeks at No. 1 &lt;dbl&gt; | Tour Finals &lt;dbl&gt; | prize_money &lt;int&gt; |\n",
       "|---|---|---|---|---|---|---|---|---|---|---|---|---|---|---|---|---|---|---|---|---|\n",
       "| 0 | 26 | 25-04-1993 | Brazil         | Right-handed | Wikipedia | 378 |  97 | 363 (04-11-2019) | Oscar Jose Gutierrez | ⋯ | NA | NA | NA | NA | NA | NA | NA | NA | NA |      NA |\n",
       "| 1 | 18 | 22-12-2001 | United Kingdom | Left-handed  | Wikipedia | 326 | 119 | 316 (14-10-2019) | Jack Draper          | ⋯ | NA | NA | NA | NA | NA | NA | NA | NA | NA |   59040 |\n",
       "| 2 | 32 | 03-11-1987 | Slovakia       | Right-handed | Wikipedia | 178 | 280 | 44 (14-01-2013)  | Lukas Lacko          | ⋯ | NA | NA | NA | NA | NA | NA | NA | NA | NA | 3261567 |\n",
       "| ⋮ | ⋮ | ⋮ | ⋮ | ⋮ | ⋮ | ⋮ | ⋮ | ⋮ | ⋮ | ⋱ | ⋮ | ⋮ | ⋮ | ⋮ | ⋮ | ⋮ | ⋮ | ⋮ | ⋮ | ⋮ |\n",
       "| 497 | 23 | 14-03-1996 | Netherlands | Left-handed | Wikipedia | 495 | 60 | 342 (05-08-2019) | Gijs Brouwer    | ⋯ | NA | NA | NA | NA | NA | NA | NA | NA | NA |    NA |\n",
       "| 498 | 24 | 17-05-1995 | Ukraine     | NA          | Wikipedia | 419 | 81 | 419 (20-01-2020) | Vladyslav Orlov | ⋯ | NA | NA | NA | NA | NA | NA | NA | NA | NA |    NA |\n",
       "| 499 | 22 | 26-03-1997 | Tunisia     | Left-handed | Wikipedia | 451 | 69 | 408 (24-12-2018) | Aziz Dougaz     | ⋯ | NA | NA | NA | NA | NA | NA | NA | NA | NA | 61984 |\n",
       "\n"
      ],
      "text/plain": [
       "    ...1 age birth_date Country        Plays        Wikipedia current_rank\n",
       "1   0    26  25-04-1993 Brazil         Right-handed Wikipedia 378         \n",
       "2   1    18  22-12-2001 United Kingdom Left-handed  Wikipedia 326         \n",
       "3   2    32  03-11-1987 Slovakia       Right-handed Wikipedia 178         \n",
       "⋮   ⋮    ⋮   ⋮          ⋮              ⋮            ⋮         ⋮           \n",
       "498 497  23  14-03-1996 Netherlands    Left-handed  Wikipedia 495         \n",
       "499 498  24  17-05-1995 Ukraine        NA           Wikipedia 419         \n",
       "500 499  22  26-03-1997 Tunisia        Left-handed  Wikipedia 451         \n",
       "    current_score Best Rank        Name                 ⋯ Twitter Nicknames\n",
       "1    97           363 (04-11-2019) Oscar Jose Gutierrez ⋯ NA      NA       \n",
       "2   119           316 (14-10-2019) Jack Draper          ⋯ NA      NA       \n",
       "3   280           44 (14-01-2013)  Lukas Lacko          ⋯ NA      NA       \n",
       "⋮   ⋮             ⋮                ⋮                    ⋱ ⋮       ⋮        \n",
       "498 60            342 (05-08-2019) Gijs Brouwer         ⋯ NA      NA       \n",
       "499 81            419 (20-01-2020) Vladyslav Orlov      ⋯ NA      NA       \n",
       "500 69            408 (24-12-2018) Aziz Dougaz          ⋯ NA      NA       \n",
       "    Grand Slams Davis Cups Web Site Team Cups Olympics Weeks at No. 1\n",
       "1   NA          NA         NA       NA        NA       NA            \n",
       "2   NA          NA         NA       NA        NA       NA            \n",
       "3   NA          NA         NA       NA        NA       NA            \n",
       "⋮   ⋮           ⋮          ⋮        ⋮         ⋮        ⋮             \n",
       "498 NA          NA         NA       NA        NA       NA            \n",
       "499 NA          NA         NA       NA        NA       NA            \n",
       "500 NA          NA         NA       NA        NA       NA            \n",
       "    Tour Finals prize_money\n",
       "1   NA               NA    \n",
       "2   NA            59040    \n",
       "3   NA          3261567    \n",
       "⋮   ⋮           ⋮          \n",
       "498 NA             NA      \n",
       "499 NA             NA      \n",
       "500 NA          61984      "
      ]
     },
     "metadata": {},
     "output_type": "display_data"
    }
   ],
   "source": [
    "player_data <- player |>\n",
    "               separate(col = `Age`, into = c(\"age\",\"birth_date\"), sep = \"\\\\(\") |>\n",
    "               mutate(age = as.integer(age)) |>\n",
    "               mutate(birth_date = str_remove(birth_date, \"\\\\)\")) |>\n",
    "               separate(col = `Current Rank`, into = c(\"current_rank\",\"current_score\"), sep = \"\\\\(\") |>\n",
    "               mutate(current_rank = as.integer(current_rank)) |>\n",
    "               mutate(current_score = as.integer(str_remove(current_score, \"\\\\)\"))) |>\n",
    "               mutate(prize_money = str_remove_all(`Prize Money`, \"[A-Za-z$, ]\")) |>\n",
    "               mutate(prize_money = as.integer(prize_money)) \n",
    "player_data"
   ]
  },
  {
   "cell_type": "code",
   "execution_count": 9,
   "id": "89db7504-4e65-49f0-b7bd-dab206140c9c",
   "metadata": {},
   "outputs": [
    {
     "data": {
      "text/html": [
       "<table class=\"dataframe\">\n",
       "<caption>A tibble: 298 × 4</caption>\n",
       "<thead>\n",
       "\t<tr><th scope=col>Name</th><th scope=col>age</th><th scope=col>current_rank</th><th scope=col>prize_money</th></tr>\n",
       "\t<tr><th scope=col>&lt;chr&gt;</th><th scope=col>&lt;int&gt;</th><th scope=col>&lt;int&gt;</th><th scope=col>&lt;int&gt;</th></tr>\n",
       "</thead>\n",
       "<tbody>\n",
       "\t<tr><td>Jack Draper    </td><td>18</td><td>326</td><td>59040</td></tr>\n",
       "\t<tr><td>Tung Lin Wu    </td><td>21</td><td>232</td><td>59123</td></tr>\n",
       "\t<tr><td>Emil Ruusuvuori</td><td>20</td><td>104</td><td>74927</td></tr>\n",
       "\t<tr><td>⋮</td><td>⋮</td><td>⋮</td><td>⋮</td></tr>\n",
       "\t<tr><td>Marcos Baghdatis</td><td>34</td><td>179</td><td>8918917</td></tr>\n",
       "\t<tr><td>Frances Tiafoe  </td><td>22</td><td> 50</td><td>3304117</td></tr>\n",
       "\t<tr><td>Ruben Bemelmans </td><td>32</td><td>260</td><td>2013015</td></tr>\n",
       "</tbody>\n",
       "</table>\n"
      ],
      "text/latex": [
       "A tibble: 298 × 4\n",
       "\\begin{tabular}{llll}\n",
       " Name & age & current\\_rank & prize\\_money\\\\\n",
       " <chr> & <int> & <int> & <int>\\\\\n",
       "\\hline\n",
       "\t Jack Draper     & 18 & 326 & 59040\\\\\n",
       "\t Tung Lin Wu     & 21 & 232 & 59123\\\\\n",
       "\t Emil Ruusuvuori & 20 & 104 & 74927\\\\\n",
       "\t ⋮ & ⋮ & ⋮ & ⋮\\\\\n",
       "\t Marcos Baghdatis & 34 & 179 & 8918917\\\\\n",
       "\t Frances Tiafoe   & 22 &  50 & 3304117\\\\\n",
       "\t Ruben Bemelmans  & 32 & 260 & 2013015\\\\\n",
       "\\end{tabular}\n"
      ],
      "text/markdown": [
       "\n",
       "A tibble: 298 × 4\n",
       "\n",
       "| Name &lt;chr&gt; | age &lt;int&gt; | current_rank &lt;int&gt; | prize_money &lt;int&gt; |\n",
       "|---|---|---|---|\n",
       "| Jack Draper     | 18 | 326 | 59040 |\n",
       "| Tung Lin Wu     | 21 | 232 | 59123 |\n",
       "| Emil Ruusuvuori | 20 | 104 | 74927 |\n",
       "| ⋮ | ⋮ | ⋮ | ⋮ |\n",
       "| Marcos Baghdatis | 34 | 179 | 8918917 |\n",
       "| Frances Tiafoe   | 22 |  50 | 3304117 |\n",
       "| Ruben Bemelmans  | 32 | 260 | 2013015 |\n",
       "\n"
      ],
      "text/plain": [
       "    Name             age current_rank prize_money\n",
       "1   Jack Draper      18  326          59040      \n",
       "2   Tung Lin Wu      21  232          59123      \n",
       "3   Emil Ruusuvuori  20  104          74927      \n",
       "⋮   ⋮                ⋮   ⋮            ⋮          \n",
       "296 Marcos Baghdatis 34  179          8918917    \n",
       "297 Frances Tiafoe   22   50          3304117    \n",
       "298 Ruben Bemelmans  32  260          2013015    "
      ]
     },
     "metadata": {},
     "output_type": "display_data"
    },
    {
     "data": {
      "text/html": [
       "<table class=\"dataframe\">\n",
       "<caption>A tibble: 100 × 4</caption>\n",
       "<thead>\n",
       "\t<tr><th scope=col>Name</th><th scope=col>age</th><th scope=col>current_rank</th><th scope=col>prize_money</th></tr>\n",
       "\t<tr><th scope=col>&lt;chr&gt;</th><th scope=col>&lt;int&gt;</th><th scope=col>&lt;int&gt;</th><th scope=col>&lt;int&gt;</th></tr>\n",
       "</thead>\n",
       "<tbody>\n",
       "\t<tr><td>Duck Hee Lee  </td><td>21</td><td>236</td><td> 374093</td></tr>\n",
       "\t<tr><td>Hubert Hurkacz</td><td>22</td><td> 31</td><td>1517157</td></tr>\n",
       "\t<tr><td>Sanjar Fayziev</td><td>25</td><td>417</td><td> 122734</td></tr>\n",
       "\t<tr><td>⋮</td><td>⋮</td><td>⋮</td><td>⋮</td></tr>\n",
       "\t<tr><td>Yoshihito Nishioka</td><td>24</td><td> 71</td><td>1703096</td></tr>\n",
       "\t<tr><td>Saketh Myneni     </td><td>32</td><td>416</td><td> 354975</td></tr>\n",
       "\t<tr><td>Dan Added         </td><td>20</td><td>382</td><td>  57943</td></tr>\n",
       "</tbody>\n",
       "</table>\n"
      ],
      "text/latex": [
       "A tibble: 100 × 4\n",
       "\\begin{tabular}{llll}\n",
       " Name & age & current\\_rank & prize\\_money\\\\\n",
       " <chr> & <int> & <int> & <int>\\\\\n",
       "\\hline\n",
       "\t Duck Hee Lee   & 21 & 236 &  374093\\\\\n",
       "\t Hubert Hurkacz & 22 &  31 & 1517157\\\\\n",
       "\t Sanjar Fayziev & 25 & 417 &  122734\\\\\n",
       "\t ⋮ & ⋮ & ⋮ & ⋮\\\\\n",
       "\t Yoshihito Nishioka & 24 &  71 & 1703096\\\\\n",
       "\t Saketh Myneni      & 32 & 416 &  354975\\\\\n",
       "\t Dan Added          & 20 & 382 &   57943\\\\\n",
       "\\end{tabular}\n"
      ],
      "text/markdown": [
       "\n",
       "A tibble: 100 × 4\n",
       "\n",
       "| Name &lt;chr&gt; | age &lt;int&gt; | current_rank &lt;int&gt; | prize_money &lt;int&gt; |\n",
       "|---|---|---|---|\n",
       "| Duck Hee Lee   | 21 | 236 |  374093 |\n",
       "| Hubert Hurkacz | 22 |  31 | 1517157 |\n",
       "| Sanjar Fayziev | 25 | 417 |  122734 |\n",
       "| ⋮ | ⋮ | ⋮ | ⋮ |\n",
       "| Yoshihito Nishioka | 24 |  71 | 1703096 |\n",
       "| Saketh Myneni      | 32 | 416 |  354975 |\n",
       "| Dan Added          | 20 | 382 |   57943 |\n",
       "\n"
      ],
      "text/plain": [
       "    Name               age current_rank prize_money\n",
       "1   Duck Hee Lee       21  236           374093    \n",
       "2   Hubert Hurkacz     22   31          1517157    \n",
       "3   Sanjar Fayziev     25  417           122734    \n",
       "⋮   ⋮                  ⋮   ⋮            ⋮          \n",
       "98  Yoshihito Nishioka 24   71          1703096    \n",
       "99  Saketh Myneni      32  416           354975    \n",
       "100 Dan Added          20  382            57943    "
      ]
     },
     "metadata": {},
     "output_type": "display_data"
    }
   ],
   "source": [
    "\n",
    "player_split <- player_data |>\n",
    "                select(Name, age, current_rank, prize_money)|>\n",
    "                na.omit() |>\n",
    "                initial_split(prop = 0.75, strata = prize_money)\n",
    "player_training <- training(player_split)\n",
    "player_testing <- testing(player_split)\n",
    "\n",
    "player_training\n",
    "player_testing"
   ]
  },
  {
   "cell_type": "code",
   "execution_count": 10,
   "id": "e7cd1a00-e6a3-48c8-89c9-8714a5548d29",
   "metadata": {},
   "outputs": [
    {
     "data": {
      "image/png": "[encoded data removed]",
      "text/plain": [
       "plot without title"
      ]
     },
     "metadata": {
      "image/png": {
       "height": 420,
       "width": 420
      }
     },
     "output_type": "display_data"
    }
   ],
   "source": [
    "age_plot <- player_training |>\n",
    "            ggplot(aes(x = age, y = prize_money)) +\n",
    "            geom_point() +\n",
    "            labs(x = \"Age(years)\", y = \"The Awards received(US$)\") +\n",
    "                    theme(text = element_text(size = 20)) +\n",
    "                    scale_x_log10(labels = comma) +\n",
    "                    scale_y_log10(labels = comma)\n",
    "\n",
    "age_plot"
   ]
  },
  {
   "cell_type": "code",
   "execution_count": 6,
   "id": "85b83291-a1e1-46e8-80a8-05186effc233",
   "metadata": {},
   "outputs": [
    {
     "name": "stderr",
     "output_type": "stream",
     "text": [
      "Warning message:\n",
      "“Removed 70 rows containing missing values (geom_point).”\n"
     ]
    },
    {
     "data": {
      "image/png": "[encoded data removed]",
      "text/plain": [
       "plot without title"
      ]
     },
     "metadata": {
      "image/png": {
       "height": 420,
       "width": 420
      }
     },
     "output_type": "display_data"
    }
   ],
   "source": [
    "current_rank_plot <- player_training |>\n",
    "                    ggplot(aes(x = current_rank, y = prize_money)) +\n",
    "                    geom_point() +\n",
    "                    labs(x = \"The current rank\", y = \"The Awards received(US$)\") +\n",
    "                    theme(text = element_text(size = 20)) +\n",
    "                    scale_x_log10(labels = comma) +\n",
    "                    scale_y_log10(labels = comma)\n",
    "\n",
    "current_rank_plot"
   ]
  },
  {
   "cell_type": "markdown",
   "id": "b94b3e9d-e951-4f6d-b96a-56cb376354b6",
   "metadata": {},
   "source": [
    "## Method"
   ]
  },
  {
   "cell_type": "markdown",
   "id": "338bd9f2-d598-4a3c-b159-4443023f72ad",
   "metadata": {},
   "source": [
    "We first need to determine the k-value and find the most appropriate k-value using cross- validation and RMSE. \n",
    "\n",
    "To find the minimum RMSE complete the model with the nearest_neighbor() equation, where neighbors should be equal to tune(). \n",
    "\n",
    "The recipe() equation is used to complete the recipe, followed by the vfold_cv() equation to determine the training data into 5 folds, with strata equal to the prize money. \n",
    "\n",
    "The workflow() equation is used to combine the recipe and the model. After completing the preparation work, the tune_grid() and collect_metrics() equations are used to complete the k-value prediction, and the filter(), arrange() and slice() are used to find the k-value with the lowest  mean of RMSE. \n",
    "\n",
    "Next we will start predicting the prize money, using nearest_neighbor(), recipe(), workflow(), predict(), bind_cols() and metrics() functions to complete the prediction, and then rank the predicted results from largest to smallest, find the top five highest prize money and the corresponding current ranking, and use the filter() equation to find the corresponding names.\n",
    "\n",
    "Finally, the relationship between age and prize money and the relationship between current ranking and prize money can be plotted using the ggplot() equation. \n"
   ]
  },
  {
   "cell_type": "markdown",
   "id": "efab4111-9850-4d01-b195-c4a4add2e4d0",
   "metadata": {
    "tags": []
   },
   "source": [
    "## Expected outcomes and significance:\n"
   ]
  },
  {
   "cell_type": "markdown",
   "id": "45e09fda-7b52-4784-855e-b547f433eb87",
   "metadata": {},
   "source": [
    "Through analyzing the relationships among player current ranks, ages and prize money, our objective is to preliminarily predict the top five players who have earned the highest prize money in the upcoming season. \n",
    "\n",
    "By conducting a preliminary analysis of the connection between these two variables and prize money, we can gain a deeper understanding of the factors that influence prize money evaluation. This understanding can serve as an available guide for players, helping them to strive for higher earnings in their respective fields.\n",
    "\n",
    "Given the absence of complete individual player data, it is crucial to consider other variables that might influence the evaluation of prize money. Are there any additional factors apart from those mentioned that impact the assessment of earnings?\n"
   ]
  },
  {
   "cell_type": "code",
   "execution_count": null,
   "id": "932b5afc-d813-4480-bc96-0f6286e0b077",
   "metadata": {},
   "outputs": [],
   "source": []
  }
 ],
 "metadata": {
  "kernelspec": {
   "display_name": "R",
   "language": "R",
   "name": "ir"
  },
  "language_info": {
   "codemirror_mode": "r",
   "file_extension": ".r",
   "mimetype": "text/x-r-source",
   "name": "R",
   "pygments_lexer": "r",
   "version": "4.1.3"
  }
 },
 "nbformat": 4,
 "nbformat_minor": 5
}
